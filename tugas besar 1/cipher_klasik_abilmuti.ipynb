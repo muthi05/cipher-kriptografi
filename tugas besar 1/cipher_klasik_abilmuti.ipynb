{
  "nbformat": 4,
  "nbformat_minor": 0,
  "metadata": {
    "colab": {
      "provenance": []
    },
    "kernelspec": {
      "name": "python3",
      "display_name": "Python 3"
    },
    "language_info": {
      "name": "python"
    }
  },
  "cells": [
    {
      "cell_type": "code",
      "source": [
        "# 1_caesar_cipher.py\n",
        "\n",
        "def caesar_encrypt(plaintext, key):\n",
        "    result = \"\"\n",
        "    for char in plaintext:\n",
        "        if char.isalpha():\n",
        "            shift = 65 if char.isupper() else 97\n",
        "            result += chr((ord(char) - shift + key) % 26 + shift)\n",
        "        else:\n",
        "            result += char\n",
        "    return result\n",
        "\n",
        "def caesar_decrypt(ciphertext, key):\n",
        "    return caesar_encrypt(ciphertext, -key)\n",
        "\n",
        "if __name__ == \"__main__\":\n",
        "    text = input(\"Masukkan teks: \")\n",
        "    key = int(input(\"Masukkan kunci (angka): \"))\n",
        "    enc = caesar_encrypt(text, key)\n",
        "    dec = caesar_decrypt(enc, key)\n",
        "    print(f\"\\nCiphertext: {enc}\")\n",
        "    print(f\"Decrypt: {dec}\")\n"
      ],
      "metadata": {
        "colab": {
          "base_uri": "https://localhost:8080/"
        },
        "id": "KZGvSJucCkrR",
        "outputId": "bc107a11-a2d5-4002-e370-7f23ec429e34"
      },
      "execution_count": 2,
      "outputs": [
        {
          "output_type": "stream",
          "name": "stdout",
          "text": [
            "Masukkan teks: aku pergi ke pasar\n",
            "Masukkan kunci (angka): 5\n",
            "\n",
            "Ciphertext: fpz ujwln pj ufxfw\n",
            "Decrypt: aku pergi ke pasar\n"
          ]
        }
      ]
    },
    {
      "cell_type": "code",
      "source": [
        "# 2_vigenere_cipher.py\n",
        "\n",
        "def generate_key(plaintext, key):\n",
        "    key = list(key)\n",
        "    if len(plaintext) == len(key):\n",
        "        return \"\".join(key)\n",
        "    else:\n",
        "        for i in range(len(plaintext) - len(key)):\n",
        "            key.append(key[i % len(key)])\n",
        "    return \"\".join(key)\n",
        "\n",
        "def vigenere_encrypt(plaintext, key):\n",
        "    key = generate_key(plaintext, key)\n",
        "    ciphertext = \"\"\n",
        "    for p, k in zip(plaintext, key):\n",
        "        if p.isalpha():\n",
        "            shift = 65 if p.isupper() else 97\n",
        "            c = chr((ord(p) - shift + ord(k.lower()) - 97) % 26 + shift)\n",
        "            ciphertext += c\n",
        "        else:\n",
        "            ciphertext += p\n",
        "    return ciphertext\n",
        "\n",
        "def vigenere_decrypt(ciphertext, key):\n",
        "    key = generate_key(ciphertext, key)\n",
        "    plaintext = \"\"\n",
        "    for c, k in zip(ciphertext, key):\n",
        "        if c.isalpha():\n",
        "            shift = 65 if c.isupper() else 97\n",
        "            p = chr((ord(c) - shift - (ord(k.lower()) - 97)) % 26 + shift)\n",
        "            plaintext += p\n",
        "        else:\n",
        "            plaintext += c\n",
        "    return plaintext\n",
        "\n",
        "if __name__ == \"__main__\":\n",
        "    text = input(\"Masukkan teks: \")\n",
        "    key = input(\"Masukkan kunci (huruf): \")\n",
        "    enc = vigenere_encrypt(text, key)\n",
        "    dec = vigenere_decrypt(enc, key)\n",
        "    print(f\"\\nCiphertext: {enc}\")\n",
        "    print(f\"Decrypt: {dec}\")\n"
      ],
      "metadata": {
        "colab": {
          "base_uri": "https://localhost:8080/"
        },
        "id": "J3-3pDatCo9z",
        "outputId": "479b2b80-1ec7-4653-f358-3edc9a90b7a3"
      },
      "execution_count": 3,
      "outputs": [
        {
          "output_type": "stream",
          "name": "stdout",
          "text": [
            "Masukkan teks: aku pergi ke pasar\n",
            "Masukkan kunci (huruf): mantap\n",
            "\n",
            "Ciphertext: mkh ptdgv kt pnlag\n",
            "Decrypt: aku pergi ke pasar\n"
          ]
        }
      ]
    },
    {
      "cell_type": "code",
      "source": [
        "# 3_affine_cipher.py\n",
        "\n",
        "def affine_encrypt(plaintext, a, b):\n",
        "    ciphertext = \"\"\n",
        "    for char in plaintext:\n",
        "        if char.isalpha():\n",
        "            base = 65 if char.isupper() else 97\n",
        "            ciphertext += chr(((a * (ord(char) - base) + b) % 26) + base)\n",
        "        else:\n",
        "            ciphertext += char\n",
        "    return ciphertext\n",
        "\n",
        "def affine_decrypt(ciphertext, a, b):\n",
        "    plaintext = \"\"\n",
        "    a_inv = pow(a, -1, 26)\n",
        "    for char in ciphertext:\n",
        "        if char.isalpha():\n",
        "            base = 65 if char.isupper() else 97\n",
        "            plaintext += chr(((a_inv * ((ord(char) - base) - b)) % 26) + base)\n",
        "        else:\n",
        "            plaintext += char\n",
        "    return plaintext\n",
        "\n",
        "if __name__ == \"__main__\":\n",
        "    text = input(\"Masukkan teks: \")\n",
        "    a = int(input(\"Masukkan nilai a (coprime dengan 26): \"))\n",
        "    b = int(input(\"Masukkan nilai b: \"))\n",
        "    enc = affine_encrypt(text, a, b)\n",
        "    dec = affine_decrypt(enc, a, b)\n",
        "    print(f\"\\nCiphertext: {enc}\")\n",
        "    print(f\"Decrypt: {dec}\")\n"
      ],
      "metadata": {
        "colab": {
          "base_uri": "https://localhost:8080/"
        },
        "id": "sJaksNMqCuWH",
        "outputId": "4eb59440-164c-4f6f-a2fc-d4bc3f3fc57b"
      },
      "execution_count": 4,
      "outputs": [
        {
          "output_type": "stream",
          "name": "stdout",
          "text": [
            "Masukkan teks: aku pergi ke pasar\n",
            "Masukkan nilai a (coprime dengan 26): 5\n",
            "Masukkan nilai b: 8\n",
            "\n",
            "Ciphertext: ige fcpmw gc fiuip\n",
            "Decrypt: aku pergi ke pasar\n"
          ]
        }
      ]
    },
    {
      "cell_type": "code",
      "source": [
        "# 4_playfair_cipher.py\n",
        "\n",
        "def generate_playfair_matrix(key):\n",
        "    key = key.upper().replace(\"J\", \"I\")\n",
        "    matrix = []\n",
        "    for c in key:\n",
        "        if c not in matrix and c.isalpha():\n",
        "            matrix.append(c)\n",
        "    for c in \"ABCDEFGHIKLMNOPQRSTUVWXYZ\":\n",
        "        if c not in matrix:\n",
        "            matrix.append(c)\n",
        "    return [matrix[i:i+5] for i in range(0, 25, 5)]\n",
        "\n",
        "def find_position(matrix, char):\n",
        "    for i, row in enumerate(matrix):\n",
        "        for j, col in enumerate(row):\n",
        "            if col == char:\n",
        "                return i, j\n",
        "    return None\n",
        "\n",
        "def playfair_encrypt(plaintext, key):\n",
        "    matrix = generate_playfair_matrix(key)\n",
        "    plaintext = plaintext.upper().replace(\"J\", \"I\")\n",
        "    plaintext = ''.join([c for c in plaintext if c.isalpha()])\n",
        "    digraphs = []\n",
        "    i = 0\n",
        "    while i < len(plaintext):\n",
        "        a = plaintext[i]\n",
        "        b = plaintext[i + 1] if i + 1 < len(plaintext) else 'X'\n",
        "        if a == b:\n",
        "            digraphs.append(a + 'X')\n",
        "            i += 1\n",
        "        else:\n",
        "            digraphs.append(a + b)\n",
        "            i += 2\n",
        "    ciphertext = \"\"\n",
        "    for pair in digraphs:\n",
        "        r1, c1 = find_position(matrix, pair[0])\n",
        "        r2, c2 = find_position(matrix, pair[1])\n",
        "        if r1 == r2:\n",
        "            ciphertext += matrix[r1][(c1 + 1) % 5]\n",
        "            ciphertext += matrix[r2][(c2 + 1) % 5]\n",
        "        elif c1 == c2:\n",
        "            ciphertext += matrix[(r1 + 1) % 5][c1]\n",
        "            ciphertext += matrix[(r2 + 1) % 5][c2]\n",
        "        else:\n",
        "            ciphertext += matrix[r1][c2]\n",
        "            ciphertext += matrix[r2][c1]\n",
        "    return ciphertext\n",
        "\n",
        "def playfair_decrypt(ciphertext, key):\n",
        "    matrix = generate_playfair_matrix(key)\n",
        "    ciphertext = ciphertext.upper().replace(\"J\", \"I\")\n",
        "    plaintext = \"\"\n",
        "    i = 0\n",
        "    while i < len(ciphertext):\n",
        "        a, b = ciphertext[i], ciphertext[i+1]\n",
        "        r1, c1 = find_position(matrix, a)\n",
        "        r2, c2 = find_position(matrix, b)\n",
        "        if r1 == r2:\n",
        "            plaintext += matrix[r1][(c1 - 1) % 5]\n",
        "            plaintext += matrix[r2][(c2 - 1) % 5]\n",
        "        elif c1 == c2:\n",
        "            plaintext += matrix[(r1 - 1) % 5][c1]\n",
        "            plaintext += matrix[(r2 - 1) % 5][c2]\n",
        "        else:\n",
        "            plaintext += matrix[r1][c2]\n",
        "            plaintext += matrix[r2][c1]\n",
        "        i += 2\n",
        "    return plaintext\n",
        "\n",
        "if __name__ == \"__main__\":\n",
        "    text = input(\"Masukkan teks: \")\n",
        "    key = input(\"Masukkan kunci: \")\n",
        "    enc = playfair_encrypt(text, key)\n",
        "    dec = playfair_decrypt(enc, key)\n",
        "    print(f\"\\nCiphertext: {enc}\")\n",
        "    print(f\"Decrypt: {dec}\")\n"
      ],
      "metadata": {
        "colab": {
          "base_uri": "https://localhost:8080/"
        },
        "id": "lIcR7ff6DEiD",
        "outputId": "5db60de9-6e8e-4a4f-a53f-965d12252f7c"
      },
      "execution_count": 5,
      "outputs": [
        {
          "output_type": "stream",
          "name": "stdout",
          "text": [
            "Masukkan teks: aku pergi ke pasar\n",
            "Masukkan kunci: cipher\n",
            "\n",
            "Ciphertext: KQSECFKCNIIBQBBV\n",
            "Decrypt: AKUPERGIKEPASARX\n"
          ]
        }
      ]
    },
    {
      "cell_type": "code",
      "source": [
        "# 5_hill_cipher.py\n",
        "import numpy as np\n",
        "\n",
        "def hill_encrypt(plaintext, key_matrix):\n",
        "    plaintext = plaintext.replace(\" \", \"\").upper()\n",
        "    while len(plaintext) % 2 != 0:\n",
        "        plaintext += \"X\"\n",
        "    ciphertext = \"\"\n",
        "    for i in range(0, len(plaintext), 2):\n",
        "        vector = np.array([[ord(plaintext[i]) - 65], [ord(plaintext[i+1]) - 65]])\n",
        "        result = np.dot(key_matrix, vector) % 26\n",
        "        ciphertext += chr(int(result[0][0]) + 65)\n",
        "        ciphertext += chr(int(result[1][0]) + 65)\n",
        "    return ciphertext\n",
        "\n",
        "def hill_decrypt(ciphertext, key_matrix):\n",
        "    det = int(np.round(np.linalg.det(key_matrix))) % 26\n",
        "    det_inv = pow(det, -1, 26)\n",
        "    adjugate = np.round(det * np.linalg.inv(key_matrix)).astype(int) % 26\n",
        "    inv_matrix = (det_inv * adjugate) % 26\n",
        "    plaintext = \"\"\n",
        "    for i in range(0, len(ciphertext), 2):\n",
        "        vector = np.array([[ord(ciphertext[i]) - 65], [ord(ciphertext[i+1]) - 65]])\n",
        "        result = np.dot(inv_matrix, vector) % 26\n",
        "        plaintext += chr(int(result[0][0]) + 65)\n",
        "        plaintext += chr(int(result[1][0]) + 65)\n",
        "    return plaintext\n",
        "\n",
        "if __name__ == \"__main__\":\n",
        "    text = input(\"Masukkan teks (huruf saja, genap): \").upper()\n",
        "    key_matrix = np.array([[3, 3], [2, 5]])\n",
        "    enc = hill_encrypt(text, key_matrix)\n",
        "    dec = hill_decrypt(enc, key_matrix)\n",
        "    print(f\"\\nCiphertext: {enc}\")\n",
        "    print(f\"Decrypt: {dec}\")\n"
      ],
      "metadata": {
        "colab": {
          "base_uri": "https://localhost:8080/"
        },
        "id": "Z4HM3GjgDWq0",
        "outputId": "8a060579-dbe1-4ceb-960d-8d2173b63ec3"
      },
      "execution_count": 6,
      "outputs": [
        {
          "output_type": "stream",
          "name": "stdout",
          "text": [
            "Masukkan teks (huruf saja, genap): aku pergi ke pasar nonggeng\n",
            "\n",
            "Ciphertext: EYBLLPQAQOTECKMVDPKQZVJX\n",
            "Decrypt: AKUPERGIKEPASARNONGGENGX\n"
          ]
        }
      ]
    }
  ]
}