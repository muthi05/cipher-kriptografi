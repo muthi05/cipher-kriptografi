{
  "nbformat": 4,
  "nbformat_minor": 0,
  "metadata": {
    "colab": {
      "provenance": []
    },
    "kernelspec": {
      "name": "python3",
      "display_name": "Python 3"
    },
    "language_info": {
      "name": "python"
    }
  },
  "cells": [
    {
      "cell_type": "code",
      "execution_count": 1,
      "metadata": {
        "colab": {
          "base_uri": "https://localhost:8080/"
        },
        "id": "3Z7DMFSaR0cn",
        "outputId": "560b4865-082a-442f-e5c3-085a17acd446"
      },
      "outputs": [
        {
          "output_type": "stream",
          "name": "stdout",
          "text": [
            "--- Vigenere Cipher Encryptor ---\n",
            "Masukkan teks yang ingin dienkripsi: KRIPTOGRAFI\n",
            "Masukkan kata kunci: KULIAH\n",
            "\n",
            "--- Hasil Enkripsi ---\n",
            "Teks Asli   : KRIPTOGRAFI\n",
            "Kata Kunci  : KULIAH\n",
            "Hasil Cipher: ULTXTVQLLNI\n"
          ]
        }
      ],
      "source": [
        "def vigenere_encrypt(plain, key):\n",
        "\n",
        "    key = key.upper()\n",
        "    result = ''\n",
        "    key_index = 0\n",
        "\n",
        "    for char in plain.upper():\n",
        "        if char.isalpha():\n",
        "\n",
        "            shift = ord(key[key_index % len(key)]) - 65\n",
        "\n",
        "            result += chr((ord(char) - 65 + shift) % 26 + 65)\n",
        "\n",
        "            key_index += 1\n",
        "        else:\n",
        "            result += char\n",
        "    return result\n",
        "\n",
        "print(\"--- Vigenere Cipher Encryptor ---\")\n",
        "\n",
        "text_to_encrypt = input(\"Masukkan teks yang ingin dienkripsi: \")\n",
        "\n",
        "encryption_key = input(\"Masukkan kata kunci: \")\n",
        "\n",
        "if not encryption_key.isalpha():\n",
        "    print(\"Error: Kata kunci harus hanya terdiri dari huruf!\")\n",
        "else:\n",
        "    hasil_enkripsi = vigenere_encrypt(text_to_encrypt, encryption_key)\n",
        "\n",
        "    print(\"\\n--- Hasil Enkripsi ---\")\n",
        "    print(f\"Teks Asli   : {text_to_encrypt.upper()}\")\n",
        "    print(f\"Kata Kunci  : {encryption_key.upper()}\")\n",
        "    print(f\"Hasil Cipher: {hasil_enkripsi}\")"
      ]
    }
  ]
}