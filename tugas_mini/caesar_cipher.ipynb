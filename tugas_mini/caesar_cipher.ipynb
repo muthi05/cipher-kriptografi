{
  "nbformat": 4,
  "nbformat_minor": 0,
  "metadata": {
    "colab": {
      "provenance": []
    },
    "kernelspec": {
      "name": "python3",
      "display_name": "Python 3"
    },
    "language_info": {
      "name": "python"
    }
  },
  "cells": [
    {
      "cell_type": "code",
      "execution_count": 1,
      "metadata": {
        "colab": {
          "base_uri": "https://localhost:8080/"
        },
        "id": "h30uYfgPNQZY",
        "outputId": "8cdd7a3d-46b0-4aa0-a71c-e387cab1b244"
      },
      "outputs": [
        {
          "output_type": "stream",
          "name": "stdout",
          "text": [
            "Masukkan teks: tes pertama\n",
            "Masukkan shift: 3\n",
            "Hasil Enkripsi: whv shuwdpd\n",
            "Dekripsi: tes pertama\n"
          ]
        }
      ],
      "source": [
        "# Caesar Cipher - Implementasi Klasik\n",
        "# Oleh: Sayyidah Muthi Nur Aisyah dan Nabilla Maesaroh\n",
        "\n",
        "def caesar_encrypt(text, shift):\n",
        "    result = ''\n",
        "    for char in text:\n",
        "        if char.isalpha():\n",
        "            base = ord('A') if char.isupper() else ord('a')\n",
        "            result += chr((ord(char) - base + shift) % 26 + base)\n",
        "        else:\n",
        "            result += char\n",
        "    return result\n",
        "\n",
        "def caesar_decrypt(cipher, shift):\n",
        "    return caesar_encrypt(cipher, -shift)\n",
        "\n",
        "# Input sederhana\n",
        "teks = input(\"Masukkan teks: \")\n",
        "shift = int(input(\"Masukkan shift: \"))\n",
        "hasil = caesar_encrypt(teks, shift)\n",
        "print(\"Hasil Enkripsi:\", hasil)\n",
        "\n",
        "# Untuk dekripsi\n",
        "print(\"Dekripsi:\", caesar_decrypt(hasil, shift))"
      ]
    }
  ]
}